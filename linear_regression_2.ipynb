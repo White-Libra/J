{
  "nbformat": 4,
  "nbformat_minor": 0,
  "metadata": {
    "colab": {
      "private_outputs": true,
      "provenance": [],
      "mount_file_id": "1ZvuHkwkl52Pt5feV9FWSgGqzgoGobhDd",
      "authorship_tag": "ABX9TyPqqLA3i58vC2Bm7QSP0QF9",
      "include_colab_link": true
    },
    "kernelspec": {
      "name": "python3",
      "display_name": "Python 3"
    },
    "language_info": {
      "name": "python"
    }
  },
  "cells": [
    {
      "cell_type": "markdown",
      "metadata": {
        "id": "view-in-github",
        "colab_type": "text"
      },
      "source": [
        "<a href=\"https://colab.research.google.com/github/White-Libra/J/blob/main/linear_regression_2.ipynb\" target=\"_parent\"><img src=\"https://colab.research.google.com/assets/colab-badge.svg\" alt=\"Open In Colab\"/></a>"
      ]
    },
    {
      "cell_type": "code",
      "execution_count": null,
      "metadata": {
        "id": "jTRy7wW0ZBEs"
      },
      "outputs": [],
      "source": [
        "from sklearn.linear_model import LinearRegression\n",
        "import pandas as pd\n",
        "import numpy as np\n",
        "import matplotlib.pyplot as plt"
      ]
    },
    {
      "cell_type": "code",
      "source": [
        "from google.colab import drive\n",
        "drive.mount(\"/content/drive\")"
      ],
      "metadata": {
        "id": "M-aPLRCYhqbB"
      },
      "execution_count": null,
      "outputs": []
    },
    {
      "cell_type": "code",
      "source": [
        "filename = '/content/heights.csv'\n",
        "df = pd.read_csv(filename)\n",
        "df.head()"
      ],
      "metadata": {
        "id": "Zu2KYhfqgfey"
      },
      "execution_count": null,
      "outputs": []
    },
    {
      "cell_type": "code",
      "source": [
        "x=df['height_cm']\n",
        "y=df['weight_kg']\n",
        "plt.plot(x, y, 'o')\n",
        "plt.xlabel('height')\n",
        "plt.ylabel('weight')"
      ],
      "metadata": {
        "id": "EQCb41vCiie5"
      },
      "execution_count": null,
      "outputs": []
    },
    {
      "cell_type": "code",
      "source": [
        "line_fitter = LinearRegression()\n",
        "line_fitter.fit(x.values.reshape(-1, 1),y)"
      ],
      "metadata": {
        "id": "7QjdNHOcjIWv"
      },
      "execution_count": null,
      "outputs": []
    },
    {
      "cell_type": "code",
      "source": [
        "line_fitter.coef_"
      ],
      "metadata": {
        "id": "yBO1LS-hkSyu"
      },
      "execution_count": null,
      "outputs": []
    },
    {
      "cell_type": "code",
      "source": [
        "line_fitter.intercept_"
      ],
      "metadata": {
        "id": "CglTBDR1kiAU"
      },
      "execution_count": null,
      "outputs": []
    },
    {
      "cell_type": "code",
      "source": [
        "plt.plot(x, y, 'o')\n",
        "plt.plot(x, line_fitter.predict(x.values.reshape(-1, 1)))\n",
        "plt.show()"
      ],
      "metadata": {
        "id": "49iZF_zXkl66"
      },
      "execution_count": null,
      "outputs": []
    },
    {
      "cell_type": "code",
      "source": [
        "line_fitter.predict([[176]])"
      ],
      "metadata": {
        "id": "KRh38apPlBP_"
      },
      "execution_count": null,
      "outputs": []
    }
  ]
}